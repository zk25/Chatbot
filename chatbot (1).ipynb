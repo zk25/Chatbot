{
  "nbformat": 4,
  "nbformat_minor": 0,
  "metadata": {
    "colab": {
      "provenance": []
    },
    "kernelspec": {
      "name": "python3",
      "display_name": "Python 3"
    },
    "language_info": {
      "name": "python"
    }
  },
  "cells": [
    {
      "cell_type": "code",
      "execution_count": null,
      "metadata": {
        "id": "XxNWDqleY9jp"
      },
      "outputs": [],
      "source": [
        "import re\n",
        "import random"
      ]
    },
    {
      "cell_type": "code",
      "source": [
        "class Rule_chatbot:\n",
        "  negative_responses = (\"no\", \"nah\", \"nope\", \"naw\", \"not a chance\", \"sorry\")\n",
        "  exit_commands = (\"quit\", \"pause\", \"exit\", \"goodbye\", \"bye\", \"later\")\n",
        "  random_questions = (\"Why are you here?\", \"Are there many humans like you?\\n\",\n",
        "                      \"What do you consume for sustenance?\\n\",\n",
        "                      \"Is there intelligent file on this planet?\\n \",\"Dose earth have a leader?\\n\"\n",
        "                      \"What planet have you visited?\\n\",\"What technology do you have in this planet?\\n\" )\n",
        "  def __init__(self):\n",
        "    self.alienbabble = {'describe_planet_intent':r'.*\\s*your planet.*',\n",
        "                        'answer_why_intent':r'why sare.*',\n",
        "                        'about_traway':r'.*\\s*Traway'\n",
        "                        }\n",
        "\n",
        "  def greet(self):\n",
        "   self.name = input(\"What is your name?\\n\")\n",
        "   will_help = input(\n",
        "       f\"Hi {self.name}, I am Rule-Bot. Will you help me learn about your planet?\\n\")\n",
        "   if will_help in self.negative_responses:\n",
        "     print(\"ok, Have a nice earth day!\")\n",
        "     return\n",
        "   self.chat()\n",
        "\n",
        "  def make_exit(self, reply):\n",
        "   for command in self.exit_commands:\n",
        "    if reply == command:\n",
        "      print(\"ok, Have a nice earth day!\")\n",
        "      return True\n",
        "\n",
        "  def chat(self):\n",
        "    reply = input(random.choice(self.random_questions)).lower()\n",
        "    while not self.make_exit(reply):\n",
        "      reply = input(self.match_reply(reply))\n",
        "\n",
        "  def match_reply(self, reply):\n",
        "    for key, value in self.alienbabble.items():\n",
        "      intent = key\n",
        "      regex_pattern = value\n",
        "      found_match = re.match(regex_pattern, reply)\n",
        "      if found_match and intent == 'describe_planet_intent':\n",
        "        return self.describe_planet_intent()\n",
        "      elif found_match and intent == 'answer_why_intent':\n",
        "        return self.answer_why_intent()\n",
        "      elif found_match and intent == 'about_traway':\n",
        "        return self.about_traway()\n",
        "    if not found_match:\n",
        "       return self.no_match_intent()\n",
        "\n",
        "  def describe_planet_intent(self):\n",
        "      responses = (\"My panet is utopia of diverse organisms and species.\\n\",\n",
        "                   \"I am from opidipus, of the Wayward Galaxies.\\n\")\n",
        "      return random.choice(responses)\n",
        "\n",
        "  def answer_why_intent(self):\n",
        "      responses = (\"I come in peaces.\\n\", \"I am here to collect data on your planet and its inhabitants.\\n\"\n",
        "                   \"I heard the coffee is good.\\n\")\n",
        "      return random.choice(responses)\n",
        "\n",
        "  def about_traway(self):\n",
        "     responses = (\"Traway provides you best deal at best offers.\\n\", \"Traway provides you with the most comfortable hotels at cheapest prices.\\n\"\n",
        "                   \"Traway make your trips full paisa vasul.\\n\")\n",
        "     return random.choice(responses)\n",
        "\n",
        "  def no_match_intent(self):\n",
        "     responses = (\"Please tell me more.\\n\", \"Tell me more!.\\n\", \"Why do you say that.\\n\", \"I see, can you elaborate?\\n\"\n",
        "                   \"Intresting, can you tell me more.\\n\", \"I see, How do you think.\\n\", \"How do you think I feel when you say that?\\n\")\n",
        "     return random.choice(responses)\n",
        "\n",
        "\n",
        "\n",
        "\n",
        "\n",
        "\n",
        "AlienBot = Rule_chatbot()\n",
        "AlienBot.greet()\n"
      ],
      "metadata": {
        "id": "I-G15AUBZF9d"
      },
      "execution_count": null,
      "outputs": []
    },
    {
      "cell_type": "code",
      "source": [],
      "metadata": {
        "id": "aZKRZeJHn04Y"
      },
      "execution_count": null,
      "outputs": []
    }
  ]
}